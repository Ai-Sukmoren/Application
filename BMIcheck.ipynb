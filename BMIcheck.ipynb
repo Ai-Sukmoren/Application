{
 "cells": [
  {
   "cell_type": "code",
   "execution_count": 1,
   "metadata": {},
   "outputs": [],
   "source": [
    "def input_height():\n",
    "    input_cm = input('Please input your height here in cm: ')\n",
    "    if '.' in input_cm:\n",
    "        return(float(input_cm))\n",
    "    else:\n",
    "        return(int(input_cm))\n",
    "\n",
    "def input_weight():\n",
    "    iput_kg = input('Please input your weight here in kg: ')\n",
    "    if '.' in iput_kg:\n",
    "        return(float(iput_kg))\n",
    "    else:\n",
    "        return(int(iput_kg))\n",
    "\n",
    "\n",
    "\n",
    "def bmi_check(height_cm,weight_kg):\n",
    "    height_m = (height_cm/100)\n",
    "    bmi = round((weight_kg/(height_m**2)))\n",
    "    if bmi < 16:\n",
    "        print(f'{bmi:}: Severe Thinness')\n",
    "    elif 16 <= bmi < 17:\n",
    "        print(f'{bmi:}: Moderate Thinness')\n",
    "    elif 17 <= bmi < 18.5:\n",
    "        print(f'{bmi:}: Mild Thinness')\n",
    "    elif 18.5 <= bmi < 25:\n",
    "        print(f'{bmi:}: Normal')\n",
    "    elif 25 <= bmi < 30:\n",
    "        print(f'{bmi:}: Overweight')\n",
    "    elif 30 <= bmi < 35:\n",
    "        print(f'{bmi:}: Obese Class I')\n",
    "    elif 35 <= bmi < 40:\n",
    "        print(f'{bmi:}: Obese Class II')\n",
    "    else:\n",
    "        print(f'{bmi:}: Obese Class III')"
   ]
  },
  {
   "cell_type": "code",
   "execution_count": 2,
   "metadata": {},
   "outputs": [
    {
     "name": "stdout",
     "output_type": "stream",
     "text": [
      "21: Normal\n"
     ]
    }
   ],
   "source": [
    "height_cm = input_height()\n",
    "\n",
    "weight_kg = input_weight()\n",
    "\n",
    "bmi_check(height_cm,weight_kg)"
   ]
  }
 ],
 "metadata": {
  "kernelspec": {
   "display_name": "test",
   "language": "python",
   "name": "python3"
  },
  "language_info": {
   "codemirror_mode": {
    "name": "ipython",
    "version": 3
   },
   "file_extension": ".py",
   "mimetype": "text/x-python",
   "name": "python",
   "nbconvert_exporter": "python",
   "pygments_lexer": "ipython3",
   "version": "3.11.5"
  }
 },
 "nbformat": 4,
 "nbformat_minor": 2
}
