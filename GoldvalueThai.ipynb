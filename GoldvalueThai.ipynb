{
 "cells": [
  {
   "cell_type": "code",
   "execution_count": 2,
   "metadata": {},
   "outputs": [
    {
     "name": "stdout",
     "output_type": "stream",
     "text": [
      "Requirement already satisfied: requests in c:\\users\\ai sukmoren\\miniconda3\\envs\\test\\lib\\site-packages (2.31.0)Note: you may need to restart the kernel to use updated packages.\n",
      "\n",
      "Requirement already satisfied: charset-normalizer<4,>=2 in c:\\users\\ai sukmoren\\miniconda3\\envs\\test\\lib\\site-packages (from requests) (3.3.2)\n",
      "Requirement already satisfied: idna<4,>=2.5 in c:\\users\\ai sukmoren\\miniconda3\\envs\\test\\lib\\site-packages (from requests) (3.6)\n",
      "Requirement already satisfied: urllib3<3,>=1.21.1 in c:\\users\\ai sukmoren\\miniconda3\\envs\\test\\lib\\site-packages (from requests) (2.1.0)\n",
      "Requirement already satisfied: certifi>=2017.4.17 in c:\\users\\ai sukmoren\\miniconda3\\envs\\test\\lib\\site-packages (from requests) (2023.11.17)\n",
      "Collecting bs4\n",
      "  Using cached bs4-0.0.1-py3-none-any.whl\n",
      "Collecting beautifulsoup4 (from bs4)\n",
      "  Downloading beautifulsoup4-4.12.2-py3-none-any.whl (142 kB)\n",
      "     ---------------------------------------- 0.0/143.0 kB ? eta -:--:--\n",
      "     -- ------------------------------------- 10.2/143.0 kB ? eta -:--:--\n",
      "     ------- ----------------------------- 30.7/143.0 kB 325.1 kB/s eta 0:00:01\n",
      "     ----------------------------------- -- 133.1/143.0 kB 1.1 MB/s eta 0:00:01\n",
      "     -------------------------------------- 143.0/143.0 kB 1.1 MB/s eta 0:00:00\n",
      "Collecting soupsieve>1.2 (from beautifulsoup4->bs4)\n",
      "  Downloading soupsieve-2.5-py3-none-any.whl.metadata (4.7 kB)\n",
      "Downloading soupsieve-2.5-py3-none-any.whl (36 kB)\n",
      "Installing collected packages: soupsieve, beautifulsoup4, bs4\n",
      "Successfully installed beautifulsoup4-4.12.2 bs4-0.0.1 soupsieve-2.5\n",
      "Note: you may need to restart the kernel to use updated packages.\n"
     ]
    }
   ],
   "source": [
    "%pip install requests\n",
    "%pip install bs4"
   ]
  },
  {
   "cell_type": "code",
   "execution_count": 1,
   "metadata": {},
   "outputs": [
    {
     "name": "stdout",
     "output_type": "stream",
     "text": [
      "the current value of gold is 33600 Bath\n",
      "Your 2 unit of gold value is 67200\n"
     ]
    }
   ],
   "source": [
    "import requests\n",
    "from bs4 import BeautifulSoup\n",
    "\n",
    "url = \"https://www.goldtraders.or.th/\"\n",
    "page = requests.get(url)\n",
    "soup = BeautifulSoup(page.text, 'html.parser')\n",
    "\n",
    "# Find the element with the specific tag and attribute\n",
    "value_element = soup.find(style=\"text-align:right;vertical-align:middle;\")\n",
    "\n",
    "\n",
    "if value_element:\n",
    "    value = value_element.text\n",
    "    value = value.replace('\\n','')\n",
    "    value = value.replace(',','')\n",
    "    value = round(float(value))\n",
    "    print(f\"the current value of gold is {value} Bath\")\n",
    "else:\n",
    "    print(\"value not found\")\n",
    "\n",
    "\n",
    "def unit_of_gold():\n",
    "    quantity = input('Unit of gold: ')\n",
    "    try:\n",
    "        if '.' in quantity:\n",
    "            return float(quantity)\n",
    "        else:\n",
    "            return int(quantity)\n",
    "    except ValueError:\n",
    "        print(\"Invalid input. Please enter a numeric value.\")\n",
    "        return None\n",
    "\n",
    "def currrent_value_of_your_gold(unit,gold_value = value):\n",
    "    value = unit * gold_value\n",
    "    print(f'Your {unit} unit of gold value is {value}')\n",
    "\n",
    "\n",
    "unit = unit_of_gold()\n",
    "\n",
    "currrent_value_of_your_gold(unit)"
   ]
  }
 ],
 "metadata": {
  "kernelspec": {
   "display_name": "test",
   "language": "python",
   "name": "python3"
  },
  "language_info": {
   "codemirror_mode": {
    "name": "ipython",
    "version": 3
   },
   "file_extension": ".py",
   "mimetype": "text/x-python",
   "name": "python",
   "nbconvert_exporter": "python",
   "pygments_lexer": "ipython3",
   "version": "3.11.5"
  }
 },
 "nbformat": 4,
 "nbformat_minor": 2
}
