{
 "cells": [
  {
   "cell_type": "code",
   "execution_count": 5,
   "metadata": {},
   "outputs": [
    {
     "data": {
      "text/plain": [
       "' This paper is not conducted by a certain number of people.'"
      ]
     },
     "execution_count": 5,
     "metadata": {},
     "output_type": "execute_result"
    }
   ],
   "source": [
    "from PyPDF2 import PdfReader\n",
    "from langchain.embeddings.openai import OpenAIEmbeddings\n",
    "from langchain.text_splitter import CharacterTextSplitter\n",
    "from langchain.vectorstores import FAISS\n",
    "from typing_extensions import Concatenate\n",
    "from langchain.chains.question_answering import load_qa_chain\n",
    "from langchain.llms import OpenAI\n",
    "import os\n",
    "\n",
    "\n",
    "#pdf file path\n",
    "\n",
    "pdf = \"C:\\\\Users\\\\Ai Sukmoren\\\\Desktop\\\\spinningup-openai-com-en-latest.pdf\"\n",
    "\n",
    "# provide the path to the pdf file\n",
    "pdfreader = PdfReader(pdf)\n",
    "\n",
    "# read text from PDF\n",
    "raw_text = ''\n",
    "for i, page in enumerate(pdfreader.pages):\n",
    "    content = page.extract_text()\n",
    "    if content:\n",
    "        raw_text += content\n",
    "\n",
    "# split the text using charazter Text Split such that it should not increse token\n",
    "text_splitter = CharacterTextSplitter(\n",
    "    separator=\"\\n\",\n",
    "    chunk_size=1000,\n",
    "    chunk_overlap=200,\n",
    "    length_function=len  # corrected typo here\n",
    ")\n",
    "\n",
    "# Split the text\n",
    "texts = text_splitter.split_text(raw_text)\n",
    "\n",
    "#embedded api key inside the enironment\n",
    "openai_api_key = os.getenv(\"OPENAI_API_KEY\")\n",
    "\n",
    "# Dowload embeddings from OpenAI\n",
    "embeddings = OpenAIEmbeddings(openai_api_key=openai_api_key)\n",
    "\n",
    "# Create a searchable  index and configure a question-answering chain that can be used to process queries\n",
    "document_search = FAISS.from_texts(texts, embeddings)\n",
    "chain = load_qa_chain(OpenAI(openai_api_key=openai_api_key), chain_type=\"stuff\")\n",
    "\n",
    "# Ask the user to input their question\n",
    "query = \" \"\n",
    "\n",
    "# Search for documents based on the input query\n",
    "docs = document_search.similarity_search(query)\n",
    " \n",
    "# Run the chain with the input documents and the user's question\n",
    "chain.run(input_documents=docs, question=query)"
   ]
  }
 ],
 "metadata": {
  "kernelspec": {
   "display_name": "test",
   "language": "python",
   "name": "python3"
  },
  "language_info": {
   "codemirror_mode": {
    "name": "ipython",
    "version": 3
   },
   "file_extension": ".py",
   "mimetype": "text/x-python",
   "name": "python",
   "nbconvert_exporter": "python",
   "pygments_lexer": "ipython3",
   "version": "3.11.4"
  }
 },
 "nbformat": 4,
 "nbformat_minor": 2
}
