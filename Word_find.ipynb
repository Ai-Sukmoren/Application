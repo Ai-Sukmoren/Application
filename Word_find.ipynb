{
 "cells": [
  {
   "cell_type": "code",
   "execution_count": 1,
   "metadata": {},
   "outputs": [],
   "source": [
    "#in case the text come in multiple-line\n",
    "def single_line_text(text):\n",
    "    \n",
    "    single_line_text = ''.join(text.split('\\n'))\n",
    "    return single_line_text\n",
    "\n",
    "\n",
    "def input_word():\n",
    "   \n",
    "    word = input('Insert a word you wanted to find: ').split()\n",
    "    return word\n",
    "\n",
    "def word_count(text):\n",
    "    word_count = {}\n",
    "    split_text = text.split()\n",
    "    for word in split_text:\n",
    "        if word not in word_count:\n",
    "            word_count[word] = 1\n",
    "        else:\n",
    "            word_count[word] += 1\n",
    "    \n",
    "    return word_count\n",
    "\n",
    "def find_specific_word(dic, words_to_find):\n",
    "    found_words = {}\n",
    "    for word in words_to_find:\n",
    "        if word in dic:\n",
    "            found_words[word] = dic[word]\n",
    "    \n",
    "    if found_words:\n",
    "        return found_words\n",
    "    else:\n",
    "        return f'None of the words: {words_to_find} were found in the text.'"
   ]
  }
 ],
 "metadata": {
  "kernelspec": {
   "display_name": "test",
   "language": "python",
   "name": "python3"
  },
  "language_info": {
   "codemirror_mode": {
    "name": "ipython",
    "version": 3
   },
   "file_extension": ".py",
   "mimetype": "text/x-python",
   "name": "python",
   "nbconvert_exporter": "python",
   "pygments_lexer": "ipython3",
   "version": "3.11.5"
  }
 },
 "nbformat": 4,
 "nbformat_minor": 2
}
